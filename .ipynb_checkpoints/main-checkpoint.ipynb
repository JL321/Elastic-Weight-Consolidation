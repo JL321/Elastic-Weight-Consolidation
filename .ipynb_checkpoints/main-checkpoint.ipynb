{
 "cells": [
  {
   "cell_type": "code",
   "execution_count": 1,
   "metadata": {
    "collapsed": true,
    "deletable": true,
    "editable": true
   },
   "outputs": [],
   "source": [
    "# automatically reload edited modules\n",
    "%load_ext autoreload\n",
    "%autoreload 2"
   ]
  },
  {
   "cell_type": "code",
   "execution_count": 2,
   "metadata": {
    "collapsed": true,
    "deletable": true,
    "editable": true
   },
   "outputs": [],
   "source": [
    "import tensorflow as tf\n",
    "from copy import  deepcopy\n",
    "import numpy as np\n",
    "from tensorflow.examples.tutorials.mnist import input_data\n"
   ]
  },
  {
   "cell_type": "code",
   "execution_count": 10,
   "metadata": {
    "collapsed": true,
    "deletable": true,
    "editable": true
   },
   "outputs": [],
   "source": [
    "%matplotlib inline\n",
    "import matplotlib.pyplot as plt\n",
    "import matplotlib.image as mpimg\n",
    "from IPython import display"
   ]
  },
  {
   "cell_type": "code",
   "execution_count": 11,
   "metadata": {
    "collapsed": true,
    "deletable": true,
    "editable": true
   },
   "outputs": [],
   "source": [
    "import os\n",
    "os.chdir('/home/yash/EWC/Elastic-Weight-Consolidation')\n",
    "from model import Model\n"
   ]
  },
  {
   "cell_type": "code",
   "execution_count": null,
   "metadata": {
    "collapsed": true,
    "deletable": true,
    "editable": true
   },
   "outputs": [],
   "source": [
    "def mnist_imshow(img):\n",
    "    plt.imshow(img.reshape([28, 28]), cmap='gray')\n",
    "    plt.axis('off')\n",
    "\n",
    "# return a new mnist dataset w/ pixels randomly permuted\n",
    "def permute_mnist(mnist):\n",
    "    perm_inds = range(mnist.train.images.shape[1])\n",
    "#     print (range(mnist.train.images.shape[1]))\n",
    "    np.random.shuffle(perm_inds)\n",
    "    mnist2 = deepcopy(mnist)\n",
    "    sets = [\"train\", \"validation\", \"test\"]\n",
    "    for set_name in sets:\n",
    "        this_set = getattr(mnist2, set_name) # shallow copy\n",
    "#         print (np.array([this_set.images[:,i] for i in [1,2,3,4]]).shape)\n",
    "        #dafaq is with ._images, where did this shit come from, but okay moving on with lyf \n",
    "        this_set._images = np.transpose(np.array([this_set.images[:,c] for c in perm_inds]))\n",
    "    return mnist2"
   ]
  },
  {
   "cell_type": "code",
   "execution_count": null,
   "metadata": {
    "collapsed": true,
    "deletable": true,
    "editable": true
   },
   "outputs": [],
   "source": [
    "def plot_test_acc(plot_handles):\n",
    "    plt.legend(handles=plot_handles, loc=\"center right\")\n",
    "    plt.xlabel(\"Iterations\")\n",
    "    plt.ylabel(\"Test Accuracy\")\n",
    "    plt.ylim(0, 1)\n",
    "    display.display(plt.gcf())\n",
    "    display.clear_output(wait=True)\n",
    "\n",
    "\n",
    "\n",
    "def train_model(model, train_set, test_sets, num_iters=1000, disp_freq=50, lams=[0]):\n",
    "    for l in range(len(lams)):\n",
    "        if lams[l] == 0:\n",
    "            model.vanilla_loss()\n",
    "        else:\n",
    "            model.ewc_loss(lams[l])\n",
    "\n",
    "        test_accs = []\n",
    "        for i in range(len(test_sets)):\n",
    "            test_accs.append(np.zeros(num_iters / disp_freq))\n",
    "\n",
    "        for it in range(num_iters):\n",
    "            train_batch = train_set.train.next_batch(100)\n",
    "            feed_dict = {x: train_batch[0], y_: train_batch[1]}\n",
    "            model.train_step.run(feed_dict=feed_dict)\n",
    "            \n",
    "            if it%disp_freq == 0:\n",
    "                plt.subplot(1, len(lams), l+1)\n",
    "                plots = []\n",
    "                colors = ['r', 'b', 'g']\n",
    "                \n",
    "                for task in range(len(test_sets)):\n",
    "                    index = it/disp_freq\n",
    "                    feed_dict = {x: test_sets[task].test.images, y_:test_sets[task].test.labels}\n",
    "                    test_accs[task][index] = model.accuracy.eval(feed_dict=feed_dict)\n",
    "                    task_char = chr(ord('A') + task)\n",
    "                    plot_h, = plt.plot(range(1, it+2, disp_freq), test_accs[task][:index+1], colors[task],\n",
    "                                       label = \"Task\" + task_char)\n",
    "                    plots.append(plot_h)\n",
    "                \n",
    "                plot_test_acc(plots)\n",
    "                \n",
    "                if lams[l] == 0:\n",
    "                    plt.title(\"Vanilla SGD\")\n",
    "                else:\n",
    "                    plt.title(\"EWC\")\n",
    "                \n",
    "                plt.gcf().set_size_inches(len(lams)*5, 3.5)"
   ]
  }
 ],
 "metadata": {
  "kernelspec": {
   "display_name": "Python 2",
   "language": "python",
   "name": "python2"
  },
  "language_info": {
   "codemirror_mode": {
    "name": "ipython",
    "version": 2
   },
   "file_extension": ".py",
   "mimetype": "text/x-python",
   "name": "python",
   "nbconvert_exporter": "python",
   "pygments_lexer": "ipython2",
   "version": "2.7.12"
  }
 },
 "nbformat": 4,
 "nbformat_minor": 0
}
